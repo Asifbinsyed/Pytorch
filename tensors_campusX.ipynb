{
  "nbformat": 4,
  "nbformat_minor": 0,
  "metadata": {
    "colab": {
      "provenance": [],
      "gpuType": "T4",
      "authorship_tag": "ABX9TyNQoOvbslGZFdz22euyLGLJ",
      "include_colab_link": true
    },
    "kernelspec": {
      "name": "python3",
      "display_name": "Python 3"
    },
    "language_info": {
      "name": "python"
    },
    "accelerator": "GPU"
  },
  "cells": [
    {
      "cell_type": "markdown",
      "metadata": {
        "id": "view-in-github",
        "colab_type": "text"
      },
      "source": [
        "<a href=\"https://colab.research.google.com/github/Asifbinsyed/Pytorch/blob/main/tensors_campusX.ipynb\" target=\"_parent\"><img src=\"https://colab.research.google.com/assets/colab-badge.svg\" alt=\"Open In Colab\"/></a>"
      ]
    },
    {
      "cell_type": "code",
      "execution_count": 2,
      "metadata": {
        "colab": {
          "base_uri": "https://localhost:8080/"
        },
        "id": "uu1fGTQa9CjB",
        "outputId": "d3962e38-df80-494a-bd15-a718c064d078"
      },
      "outputs": [
        {
          "output_type": "stream",
          "name": "stdout",
          "text": [
            "GPU is not available.\n"
          ]
        }
      ],
      "source": [
        "import torch\n",
        "\n",
        "if torch.cuda.is_available():\n",
        "  print(f\"the cuda is available\")\n",
        "  print(f\"the available device is {torch.cuda.get_device_name(0)}\")\n",
        "else:\n",
        "  print(f'GPU is not available.')"
      ]
    },
    {
      "cell_type": "code",
      "source": [
        "torch.__version__"
      ],
      "metadata": {
        "colab": {
          "base_uri": "https://localhost:8080/",
          "height": 35
        },
        "id": "fJqG-9d4C6m5",
        "outputId": "a81bebf5-7c96-4b91-d90a-59217ad44540"
      },
      "execution_count": 6,
      "outputs": [
        {
          "output_type": "execute_result",
          "data": {
            "text/plain": [
              "'2.5.1+cu121'"
            ],
            "application/vnd.google.colaboratory.intrinsic+json": {
              "type": "string"
            }
          },
          "metadata": {},
          "execution_count": 6
        }
      ]
    },
    {
      "cell_type": "code",
      "source": [
        "# Creating the tensor\n",
        "torch.empty(2,3)"
      ],
      "metadata": {
        "colab": {
          "base_uri": "https://localhost:8080/"
        },
        "id": "WtxGlyMC9-gq",
        "outputId": "eece4459-cdcd-48eb-8ac1-c28c984c3ff5"
      },
      "execution_count": 8,
      "outputs": [
        {
          "output_type": "execute_result",
          "data": {
            "text/plain": [
              "tensor([[8.3195e+35, 2.1708e-18, 1.2059e+27],\n",
              "        [3.0951e-18, 9.8686e+17,        nan]])"
            ]
          },
          "metadata": {},
          "execution_count": 8
        }
      ]
    },
    {
      "cell_type": "code",
      "source": [
        "# Creating Zeroes\n",
        "torch.zeros(2,3)"
      ],
      "metadata": {
        "colab": {
          "base_uri": "https://localhost:8080/"
        },
        "id": "O9wIBysIDLL5",
        "outputId": "eae55c53-5918-4c20-b80e-ecd345e022f9"
      },
      "execution_count": 12,
      "outputs": [
        {
          "output_type": "execute_result",
          "data": {
            "text/plain": [
              "tensor([[0., 0., 0.],\n",
              "        [0., 0., 0.]])"
            ]
          },
          "metadata": {},
          "execution_count": 12
        }
      ]
    },
    {
      "cell_type": "code",
      "source": [
        "# Creating ones\n",
        "torch.ones(2,3)"
      ],
      "metadata": {
        "colab": {
          "base_uri": "https://localhost:8080/"
        },
        "id": "L6YWukH3DYGc",
        "outputId": "f5489dbb-59be-434a-9f99-36834683f23d"
      },
      "execution_count": 13,
      "outputs": [
        {
          "output_type": "execute_result",
          "data": {
            "text/plain": [
              "tensor([[1., 1., 1.],\n",
              "        [1., 1., 1.]])"
            ]
          },
          "metadata": {},
          "execution_count": 13
        }
      ]
    },
    {
      "cell_type": "code",
      "source": [
        "# Creating Random Values\n",
        "torch.manual_seed(42)\n",
        "torch.rand(2,3)"
      ],
      "metadata": {
        "colab": {
          "base_uri": "https://localhost:8080/"
        },
        "id": "FoAT1ejoDu0l",
        "outputId": "7311fe67-9f73-4678-8da0-13871b88e6cf"
      },
      "execution_count": 16,
      "outputs": [
        {
          "output_type": "execute_result",
          "data": {
            "text/plain": [
              "tensor([[0.8823, 0.9150, 0.3829],\n",
              "        [0.9593, 0.3904, 0.6009]])"
            ]
          },
          "metadata": {},
          "execution_count": 16
        }
      ]
    },
    {
      "cell_type": "code",
      "source": [],
      "metadata": {
        "id": "o_T97HS1D1l-"
      },
      "execution_count": 16,
      "outputs": []
    },
    {
      "cell_type": "markdown",
      "source": [
        "# Tensor Shapes"
      ],
      "metadata": {
        "id": "rLOGw29zEsgU"
      }
    },
    {
      "cell_type": "code",
      "source": [
        "a= torch.tensor([[1,2,3], [2,3,4]])\n",
        "a.shape"
      ],
      "metadata": {
        "colab": {
          "base_uri": "https://localhost:8080/"
        },
        "id": "5v-wG4L_EueW",
        "outputId": "2b857aeb-c054-40d9-8c3b-fa379a694648"
      },
      "execution_count": 20,
      "outputs": [
        {
          "output_type": "execute_result",
          "data": {
            "text/plain": [
              "torch.Size([2, 3])"
            ]
          },
          "metadata": {},
          "execution_count": 20
        }
      ]
    },
    {
      "cell_type": "code",
      "source": [
        "torch.empty_like(a)"
      ],
      "metadata": {
        "colab": {
          "base_uri": "https://localhost:8080/"
        },
        "id": "-W-PhD6rE27v",
        "outputId": "99e9880c-8152-4c2c-81fd-bea21d711184"
      },
      "execution_count": 24,
      "outputs": [
        {
          "output_type": "execute_result",
          "data": {
            "text/plain": [
              "tensor([[    135284008828304,     135284008828304,                   0],\n",
              "        [                  0,      97362613633024, 7310593858020254331]])"
            ]
          },
          "metadata": {},
          "execution_count": 24
        }
      ]
    },
    {
      "cell_type": "code",
      "source": [
        "torch.zeros_like(a)"
      ],
      "metadata": {
        "colab": {
          "base_uri": "https://localhost:8080/"
        },
        "id": "ysJn3I_lFL_2",
        "outputId": "663d2081-5b0f-4c22-e4dd-533132a04ce8"
      },
      "execution_count": 25,
      "outputs": [
        {
          "output_type": "execute_result",
          "data": {
            "text/plain": [
              "tensor([[0, 0, 0],\n",
              "        [0, 0, 0]])"
            ]
          },
          "metadata": {},
          "execution_count": 25
        }
      ]
    },
    {
      "cell_type": "code",
      "source": [
        "torch.ones_like(a)"
      ],
      "metadata": {
        "colab": {
          "base_uri": "https://localhost:8080/"
        },
        "id": "2A4ESlZEFkug",
        "outputId": "23aaa979-3362-4d26-cafa-a9d7115a0afc"
      },
      "execution_count": 26,
      "outputs": [
        {
          "output_type": "execute_result",
          "data": {
            "text/plain": [
              "tensor([[1, 1, 1],\n",
              "        [1, 1, 1]])"
            ]
          },
          "metadata": {},
          "execution_count": 26
        }
      ]
    },
    {
      "cell_type": "code",
      "source": [
        "torch.rand_like(a, dtype= torch.float32)"
      ],
      "metadata": {
        "colab": {
          "base_uri": "https://localhost:8080/"
        },
        "id": "AUgMG42SHwCS",
        "outputId": "eb32bc2d-8092-4d15-b57a-ac5e8fc6593c"
      },
      "execution_count": 36,
      "outputs": [
        {
          "output_type": "execute_result",
          "data": {
            "text/plain": [
              "tensor([[0.2566, 0.7936, 0.9408],\n",
              "        [0.1332, 0.9346, 0.5936]])"
            ]
          },
          "metadata": {},
          "execution_count": 36
        }
      ]
    },
    {
      "cell_type": "markdown",
      "source": [
        "# Data Type"
      ],
      "metadata": {
        "id": "yetQhmx8FnM7"
      }
    },
    {
      "cell_type": "code",
      "source": [
        "a.dtype"
      ],
      "metadata": {
        "colab": {
          "base_uri": "https://localhost:8080/"
        },
        "id": "L1zF1HdMGnbA",
        "outputId": "0135ec87-54be-4134-d4b6-37ff1a7753ef"
      },
      "execution_count": 30,
      "outputs": [
        {
          "output_type": "execute_result",
          "data": {
            "text/plain": [
              "torch.int64"
            ]
          },
          "metadata": {},
          "execution_count": 30
        }
      ]
    },
    {
      "cell_type": "code",
      "source": [
        "# for example we have to create a data type at the time of creating the tensor\n",
        "\n",
        "a = torch.tensor([[2,3,4], [2,3,4]], dtype= torch.int32)\n"
      ],
      "metadata": {
        "id": "AeRchvrsGsXU"
      },
      "execution_count": 32,
      "outputs": []
    },
    {
      "cell_type": "code",
      "source": [
        "# you can also change the data type for a tensor\n",
        "a.to(torch.float32)\n"
      ],
      "metadata": {
        "colab": {
          "base_uri": "https://localhost:8080/"
        },
        "id": "8ItqSz2bHWXO",
        "outputId": "b384c1cf-2822-42c1-b69f-d84adb258651"
      },
      "execution_count": 35,
      "outputs": [
        {
          "output_type": "execute_result",
          "data": {
            "text/plain": [
              "tensor([[2., 3., 4.],\n",
              "        [2., 3., 4.]])"
            ]
          },
          "metadata": {},
          "execution_count": 35
        }
      ]
    },
    {
      "cell_type": "code",
      "source": [
        "# different type of operation with tensor\n",
        "b= torch.rand(2,2).to(torch.float32)\n",
        "c = torch.rand(2,2).to(torch.float32)\n",
        "# addition\n",
        "b + c\n",
        "\n",
        "# subtraction\n",
        "b- c\n",
        "\n",
        "# multilplication\n",
        "b * c\n",
        "\n",
        "# Division\n",
        "\n",
        "b/c\n",
        "\n",
        "# integer division\n",
        "\n",
        "(b * 100/ c)//2\n",
        "\n",
        "# mod\n",
        "\n",
        "((b * 100/ c)//2)%2\n",
        "\n",
        "# power\n",
        "\n",
        "b ** 2\n"
      ],
      "metadata": {
        "colab": {
          "base_uri": "https://localhost:8080/"
        },
        "id": "4ihmZx_MHlbI",
        "outputId": "7cbbcbf1-ddeb-4baa-8098-f48bf75126dd"
      },
      "execution_count": 45,
      "outputs": [
        {
          "output_type": "execute_result",
          "data": {
            "text/plain": [
              "tensor([[9.6261e-01, 7.6321e-03],\n",
              "        [1.6499e-05, 1.1841e-02]])"
            ]
          },
          "metadata": {},
          "execution_count": 45
        }
      ]
    },
    {
      "cell_type": "code",
      "source": [],
      "metadata": {
        "id": "wNoylMjhPqsg"
      },
      "execution_count": null,
      "outputs": []
    },
    {
      "cell_type": "markdown",
      "source": [
        "# Basif operation"
      ],
      "metadata": {
        "id": "2bAZ2jl3Pf8q"
      }
    },
    {
      "cell_type": "code",
      "source": [
        "a= torch.tensor([1.5,-2,3,4])\n",
        "\n",
        "# abs\n",
        "torch.abs(a)\n",
        "\n",
        "#  round\n",
        "torch.round(a)\n",
        "\n",
        "# negetive\n",
        "torch.neg(a)\n",
        "\n",
        "# Ceill\n",
        "torch.ceil(a)\n",
        "\n",
        "# torch floor\n",
        "\n",
        "torch.floor(a)\n",
        "\n",
        "# Clamp\n",
        "\n",
        "torch.clamp(a, min= 2, max= 3 )"
      ],
      "metadata": {
        "colab": {
          "base_uri": "https://localhost:8080/"
        },
        "id": "eV_HsBlIPrek",
        "outputId": "aa4b5791-fcbc-4227-e481-f3c7d4dc703c"
      },
      "execution_count": 59,
      "outputs": [
        {
          "output_type": "execute_result",
          "data": {
            "text/plain": [
              "tensor([2., 2., 3., 3.])"
            ]
          },
          "metadata": {},
          "execution_count": 59
        }
      ]
    },
    {
      "cell_type": "markdown",
      "source": [],
      "metadata": {
        "id": "dpSJf8uPPi4s"
      }
    },
    {
      "cell_type": "markdown",
      "source": [
        "# Reduction operation"
      ],
      "metadata": {
        "id": "SWR2GZhGKmZh"
      }
    },
    {
      "cell_type": "code",
      "source": [
        "# creating the random torch\n",
        "\n",
        "a = torch.rand(2,3)\n",
        "b = torch.rand(2,3)\n",
        "\n",
        "# sum\n",
        "a.sum()\n",
        "\n",
        "# sum along the column\n",
        "\n",
        "a.sum(dim=0)\n",
        "\n",
        "# Sum along the rows\n",
        "\n",
        "a.sum(dim= 1)\n",
        "\n",
        "# same goes for max, min, product, standard deviation, variance\n",
        "\n",
        "# argmax\n",
        "\n",
        "a.argmax()\n",
        "\n",
        "# argmin\n",
        "a.argmin()"
      ],
      "metadata": {
        "colab": {
          "base_uri": "https://localhost:8080/"
        },
        "id": "bVoy6Y27Pbbr",
        "outputId": "71f9a5e3-0106-4d05-cfc7-fceddb044467"
      },
      "execution_count": 68,
      "outputs": [
        {
          "output_type": "execute_result",
          "data": {
            "text/plain": [
              "tensor(5)"
            ]
          },
          "metadata": {},
          "execution_count": 68
        }
      ]
    },
    {
      "cell_type": "markdown",
      "source": [
        "# Matrix operation"
      ],
      "metadata": {
        "id": "uAOn_7RjfHFZ"
      }
    },
    {
      "cell_type": "code",
      "source": [
        "a = torch.randint(1,9, (2,2))\n",
        "b = torch.randint(1,9, (2,2))\n",
        "\n"
      ],
      "metadata": {
        "id": "-QZcHcj-XuEb"
      },
      "execution_count": 19,
      "outputs": []
    },
    {
      "source": [
        "# matrix multiplication\n",
        "torch.matmul(a,b)"
      ],
      "cell_type": "code",
      "metadata": {
        "colab": {
          "base_uri": "https://localhost:8080/"
        },
        "id": "ESzYIgwE1mQt",
        "outputId": "6c8b4249-b2c3-4dc0-8848-c80db89e774c"
      },
      "execution_count": 20,
      "outputs": [
        {
          "output_type": "execute_result",
          "data": {
            "text/plain": [
              "tensor([[53, 71],\n",
              "        [31, 45]])"
            ]
          },
          "metadata": {},
          "execution_count": 20
        }
      ]
    },
    {
      "cell_type": "code",
      "source": [
        "# vector dot product\n",
        "t1, t2 = torch.tensor([0, 1]), torch.tensor([2, 3])\n",
        "torch.dot(t1,t2)"
      ],
      "metadata": {
        "colab": {
          "base_uri": "https://localhost:8080/"
        },
        "id": "zpUzO6n9fEg3",
        "outputId": "4faa03b8-4308-4ec3-f282-b440063d66e8"
      },
      "execution_count": 22,
      "outputs": [
        {
          "output_type": "execute_result",
          "data": {
            "text/plain": [
              "tensor(3)"
            ]
          },
          "metadata": {},
          "execution_count": 22
        }
      ]
    },
    {
      "cell_type": "code",
      "source": [
        "# Matrix transpose\n",
        "torch.transpose(a, 0,1)"
      ],
      "metadata": {
        "colab": {
          "base_uri": "https://localhost:8080/"
        },
        "id": "Fv8efgav2jbV",
        "outputId": "29712487-67aa-4488-b1d0-4048b53713fa"
      },
      "execution_count": 25,
      "outputs": [
        {
          "output_type": "execute_result",
          "data": {
            "text/plain": [
              "tensor([[7, 5],\n",
              "        [3, 1]])"
            ]
          },
          "metadata": {},
          "execution_count": 25
        }
      ]
    },
    {
      "cell_type": "code",
      "source": [
        "# determinant of matrix\n",
        "a = torch.randint(1,9, (2,2)).to(torch.float32)\n",
        "torch.det(a)"
      ],
      "metadata": {
        "colab": {
          "base_uri": "https://localhost:8080/"
        },
        "id": "OyiSfNhA3ILe",
        "outputId": "2c936163-b441-4f8e-e2dd-38e7678f5454"
      },
      "execution_count": 27,
      "outputs": [
        {
          "output_type": "execute_result",
          "data": {
            "text/plain": [
              "tensor(3.)"
            ]
          },
          "metadata": {},
          "execution_count": 27
        }
      ]
    },
    {
      "cell_type": "code",
      "source": [
        "# inverse matrix\n",
        "torch.inverse(a)"
      ],
      "metadata": {
        "colab": {
          "base_uri": "https://localhost:8080/"
        },
        "id": "3k7cjlhM3zyU",
        "outputId": "244a78b8-b207-4b4e-86c6-fa6d9e1b60de"
      },
      "execution_count": 28,
      "outputs": [
        {
          "output_type": "execute_result",
          "data": {
            "text/plain": [
              "tensor([[ 1.0000, -1.0000],\n",
              "        [-0.3333,  0.6667]])"
            ]
          },
          "metadata": {},
          "execution_count": 28
        }
      ]
    },
    {
      "cell_type": "code",
      "source": [],
      "metadata": {
        "id": "67C0ARSL4FTy"
      },
      "execution_count": null,
      "outputs": []
    },
    {
      "cell_type": "markdown",
      "source": [
        "# Comparison funciton in torch"
      ],
      "metadata": {
        "id": "j5KwfKLyc7T4"
      }
    },
    {
      "cell_type": "code",
      "source": [
        "# create the tensor\n",
        "\n",
        "a = torch.randint(size=(2,3), low= 0 , high = 10).to(torch.float32)\n",
        "b = torch.randint(size = (2,3), low= 0 , high = 10)\n",
        "\n"
      ],
      "metadata": {
        "id": "HYz985j8c-js"
      },
      "execution_count": 41,
      "outputs": []
    },
    {
      "cell_type": "code",
      "source": [
        "# compare each of the item\n",
        "a>b"
      ],
      "metadata": {
        "colab": {
          "base_uri": "https://localhost:8080/"
        },
        "id": "HrcgeiEDdKuf",
        "outputId": "a9f43e20-9d1f-4013-b744-ed81381b7ee7"
      },
      "execution_count": 35,
      "outputs": [
        {
          "output_type": "execute_result",
          "data": {
            "text/plain": [
              "tensor([[False, False, False],\n",
              "        [ True,  True, False]])"
            ]
          },
          "metadata": {},
          "execution_count": 35
        }
      ]
    },
    {
      "cell_type": "markdown",
      "source": [
        "# Special Function"
      ],
      "metadata": {
        "id": "i9xAJ7lneBqb"
      }
    },
    {
      "cell_type": "code",
      "source": [
        "torch.sigmoid(a)"
      ],
      "metadata": {
        "colab": {
          "base_uri": "https://localhost:8080/"
        },
        "id": "Uv-i4nLReLsg",
        "outputId": "b73f52b2-8681-47df-cc61-b8bb64572d50"
      },
      "execution_count": 36,
      "outputs": [
        {
          "output_type": "execute_result",
          "data": {
            "text/plain": [
              "tensor([[0.9526, 0.7311, 0.8808],\n",
              "        [0.9997, 0.9933, 0.5000]])"
            ]
          },
          "metadata": {},
          "execution_count": 36
        }
      ]
    },
    {
      "cell_type": "code",
      "source": [
        "torch.softmax(a,1)"
      ],
      "metadata": {
        "colab": {
          "base_uri": "https://localhost:8080/"
        },
        "id": "6sncVtjeeS3w",
        "outputId": "4a62c896-b9c1-4b2e-ab07-67dc140ad162"
      },
      "execution_count": 42,
      "outputs": [
        {
          "output_type": "execute_result",
          "data": {
            "text/plain": [
              "tensor([[7.2748e-01, 2.6762e-01, 4.9017e-03],\n",
              "        [9.0496e-04, 6.6868e-03, 9.9241e-01]])"
            ]
          },
          "metadata": {},
          "execution_count": 42
        }
      ]
    },
    {
      "cell_type": "code",
      "source": [
        "torch.relu(a)"
      ],
      "metadata": {
        "colab": {
          "base_uri": "https://localhost:8080/"
        },
        "id": "XuXmmN1meV8e",
        "outputId": "9b521aea-4927-4f38-b6a3-7725f041af74"
      },
      "execution_count": 43,
      "outputs": [
        {
          "output_type": "execute_result",
          "data": {
            "text/plain": [
              "tensor([[8., 7., 3.],\n",
              "        [2., 4., 9.]])"
            ]
          },
          "metadata": {},
          "execution_count": 43
        }
      ]
    },
    {
      "cell_type": "markdown",
      "source": [
        "# Inplace operation"
      ],
      "metadata": {
        "id": "ZpEr9hRXfMAL"
      }
    },
    {
      "cell_type": "code",
      "source": [
        "# we just have to add an underscore\n",
        "\n",
        "a.add_(b)"
      ],
      "metadata": {
        "colab": {
          "base_uri": "https://localhost:8080/"
        },
        "id": "0qEa1IiFerTd",
        "outputId": "a39249ad-4618-4f62-d760-ad838d32723a"
      },
      "execution_count": 45,
      "outputs": [
        {
          "output_type": "execute_result",
          "data": {
            "text/plain": [
              "tensor([[14., 13.,  6.],\n",
              "        [10.,  8., 17.]])"
            ]
          },
          "metadata": {},
          "execution_count": 45
        }
      ]
    },
    {
      "cell_type": "code",
      "source": [
        "a.relu_()"
      ],
      "metadata": {
        "colab": {
          "base_uri": "https://localhost:8080/"
        },
        "id": "EKc7afOLhpQO",
        "outputId": "533ec8e5-444b-4fc3-ba55-74552fef63d5"
      },
      "execution_count": 46,
      "outputs": [
        {
          "output_type": "execute_result",
          "data": {
            "text/plain": [
              "tensor([[14., 13.,  6.],\n",
              "        [10.,  8., 17.]])"
            ]
          },
          "metadata": {},
          "execution_count": 46
        }
      ]
    },
    {
      "cell_type": "markdown",
      "source": [
        "# Clone"
      ],
      "metadata": {
        "id": "XT6Eb1bThus1"
      }
    },
    {
      "cell_type": "code",
      "source": [
        "c=a.clone()"
      ],
      "metadata": {
        "id": "kxaaztt5iWnZ"
      },
      "execution_count": 47,
      "outputs": []
    },
    {
      "cell_type": "markdown",
      "source": [
        "# Cuda variable"
      ],
      "metadata": {
        "id": "vxIZVcmtIpOe"
      }
    },
    {
      "cell_type": "code",
      "source": [
        "# create a cuda variable\n",
        "import torch\n",
        "a = torch.randint(2,9,(4,4)).to(device= \"cuda\")"
      ],
      "metadata": {
        "id": "s_NYT0FWiZAR"
      },
      "execution_count": 7,
      "outputs": []
    },
    {
      "cell_type": "code",
      "source": [
        "torch.reshape(a,(2,2,2,2))"
      ],
      "metadata": {
        "colab": {
          "base_uri": "https://localhost:8080/"
        },
        "id": "TfexdD24I2oR",
        "outputId": "9e196f5e-b6b8-4303-c692-076196bc1de2"
      },
      "execution_count": 8,
      "outputs": [
        {
          "output_type": "execute_result",
          "data": {
            "text/plain": [
              "tensor([[[[7, 2],\n",
              "          [6, 6]],\n",
              "\n",
              "         [[7, 2],\n",
              "          [8, 6]]],\n",
              "\n",
              "\n",
              "        [[[5, 3],\n",
              "          [4, 8]],\n",
              "\n",
              "         [[7, 3],\n",
              "          [6, 8]]]], device='cuda:0')"
            ]
          },
          "metadata": {},
          "execution_count": 8
        }
      ]
    },
    {
      "cell_type": "code",
      "source": [
        "# flattening : it is basically you can make it one dimensional array:\n",
        "\n",
        "torch.flatten(a)"
      ],
      "metadata": {
        "colab": {
          "base_uri": "https://localhost:8080/"
        },
        "id": "9p45TJkQJfzO",
        "outputId": "1e104c29-802a-4a5a-9931-97adb64affd1"
      },
      "execution_count": 9,
      "outputs": [
        {
          "output_type": "execute_result",
          "data": {
            "text/plain": [
              "tensor([7, 2, 6, 6, 7, 2, 8, 6, 5, 3, 4, 8, 7, 3, 6, 8], device='cuda:0')"
            ]
          },
          "metadata": {},
          "execution_count": 9
        }
      ]
    },
    {
      "cell_type": "markdown",
      "source": [
        "# Permutation\n",
        "\n",
        "Suppose you have created a tensor of (2,3,4) shape. but now you want to change the shape size in a way that the size in the number is just different. In that case you just use permute"
      ],
      "metadata": {
        "id": "zdAkK1BTJ5Kx"
      }
    },
    {
      "cell_type": "code",
      "source": [
        "x = torch.rand(2,3,4)\n",
        "print(x.shape)\n",
        "\n",
        "y= torch.permute(x,(2,0,1))\n",
        "print(y.shape)\n"
      ],
      "metadata": {
        "colab": {
          "base_uri": "https://localhost:8080/"
        },
        "id": "RgWjSwJhKOIM",
        "outputId": "7c0effee-427d-4c57-f62a-24bcb3f701d3"
      },
      "execution_count": 10,
      "outputs": [
        {
          "output_type": "stream",
          "name": "stdout",
          "text": [
            "torch.Size([2, 3, 4])\n",
            "torch.Size([4, 2, 3])\n"
          ]
        }
      ]
    },
    {
      "cell_type": "markdown",
      "source": [
        "# Squeeze and Unsqueeze\n",
        "\n",
        "Squeeze and Unsqueeze are function to either chip in a new dimension or remove a dimension from a tensor. use case could be when we\n",
        "use batch processing so in that case we chip in a new dimension"
      ],
      "metadata": {
        "id": "3lOLPnKXK-sZ"
      }
    },
    {
      "cell_type": "code",
      "source": [
        "torch.unsqueeze(x,0).shape"
      ],
      "metadata": {
        "colab": {
          "base_uri": "https://localhost:8080/"
        },
        "id": "W6drfwSCLA2T",
        "outputId": "80eadf21-c16f-4522-9443-5b3eda9b8471"
      },
      "execution_count": 14,
      "outputs": [
        {
          "output_type": "execute_result",
          "data": {
            "text/plain": [
              "torch.Size([1, 2, 3, 4])"
            ]
          },
          "metadata": {},
          "execution_count": 14
        }
      ]
    },
    {
      "cell_type": "code",
      "source": [
        "a=torch.squeeze(y,1)"
      ],
      "metadata": {
        "id": "FCFh_JEqLRYw"
      },
      "execution_count": 24,
      "outputs": []
    },
    {
      "cell_type": "code",
      "source": [
        "a.shape"
      ],
      "metadata": {
        "colab": {
          "base_uri": "https://localhost:8080/"
        },
        "id": "VqVtdNM7LU-U",
        "outputId": "5f04b70e-ab8c-46e3-e059-df153399ee92"
      },
      "execution_count": 25,
      "outputs": [
        {
          "output_type": "execute_result",
          "data": {
            "text/plain": [
              "torch.Size([4, 2, 3])"
            ]
          },
          "metadata": {},
          "execution_count": 25
        }
      ]
    },
    {
      "cell_type": "code",
      "source": [
        "torch.squeeze(a,dim=1).shape"
      ],
      "metadata": {
        "colab": {
          "base_uri": "https://localhost:8080/"
        },
        "id": "upyR7t-aNXD_",
        "outputId": "9395cfa3-bda0-4faf-f155-17abf1c0d54b"
      },
      "execution_count": 28,
      "outputs": [
        {
          "output_type": "execute_result",
          "data": {
            "text/plain": [
              "torch.Size([4, 2, 3])"
            ]
          },
          "metadata": {},
          "execution_count": 28
        }
      ]
    },
    {
      "cell_type": "code",
      "source": [
        "import torch\n",
        "\n",
        "# Create a tensor with an extra dimension\n",
        "tensor_with_extra_dim = torch.randint(0, 10, (1, 3, 1, 4))\n",
        "print(\"Original tensor shape:\", tensor_with_extra_dim.shape)  # Output: torch.Size([1, 3, 1, 4])\n",
        "\n",
        "# Squeeze the tensor to remove dimensions of size 1\n",
        "squeezed_tensor = torch.squeeze(tensor_with_extra_dim)\n",
        "print(\"Squeezed tensor shape:\", squeezed_tensor.shape)  # Output: torch.Size([3, 4])\n",
        "\n",
        "# Squeeze a specific dimension (dimension 0 in this case)\n",
        "squeezed_dim0 = torch.squeeze(tensor_with_extra_dim, dim=0)\n",
        "print(\"Squeezed on dim 0 shape:\", squeezed_dim0.shape)  # Output: torch.Size([3, 1, 4])"
      ],
      "metadata": {
        "colab": {
          "base_uri": "https://localhost:8080/"
        },
        "id": "DvL8XJCENcGC",
        "outputId": "68d41314-a732-4618-c2dc-9369991f296c"
      },
      "execution_count": 29,
      "outputs": [
        {
          "output_type": "stream",
          "name": "stdout",
          "text": [
            "Original tensor shape: torch.Size([1, 3, 1, 4])\n",
            "Squeezed tensor shape: torch.Size([3, 4])\n",
            "Squeezed on dim 0 shape: torch.Size([3, 1, 4])\n"
          ]
        }
      ]
    },
    {
      "cell_type": "markdown",
      "source": [
        "# Change the numpy array to torch"
      ],
      "metadata": {
        "id": "6Pp_k0mjNsYb"
      }
    },
    {
      "cell_type": "code",
      "source": [
        "import numpy as np\n",
        "a= np.array([[2,3],[3,4]])\n",
        "\n",
        "torch.from_numpy(a)"
      ],
      "metadata": {
        "colab": {
          "base_uri": "https://localhost:8080/"
        },
        "id": "XVy5bVOsP1mX",
        "outputId": "25c2db3c-bf02-4570-e4e4-264e344e43a3"
      },
      "execution_count": 33,
      "outputs": [
        {
          "output_type": "execute_result",
          "data": {
            "text/plain": [
              "tensor([[2, 3],\n",
              "        [3, 4]])"
            ]
          },
          "metadata": {},
          "execution_count": 33
        }
      ]
    },
    {
      "cell_type": "markdown",
      "source": [],
      "metadata": {
        "id": "-15h-Z-zNu2S"
      }
    }
  ]
}